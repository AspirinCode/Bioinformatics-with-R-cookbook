{
 "cells": [
  {
   "cell_type": "markdown",
   "metadata": {},
   "source": [
    "# Generating Probability Distributions\n",
    "To have a better understanding of distributions, we can type `?distributions` and then we can get an access to the help web of 'distributions in the stats package'."
   ]
  },
  {
   "cell_type": "code",
   "execution_count": 1,
   "metadata": {},
   "outputs": [],
   "source": [
    "?distributions"
   ]
  },
  {
   "cell_type": "code",
   "execution_count": 4,
   "metadata": {},
   "outputs": [
    {
     "data": {
      "image/png": "[encoded data removed]",
      "text/plain": [
       "Plot with title \"Histogram of n.data\""
      ]
     },
     "metadata": {},
     "output_type": "display_data"
    }
   ],
   "source": [
    "n.data <- rnorm(n = 100, mean = 1, sd = 0.1)\n",
    "hist(n.data)\n",
    "# 'rnorm()' generate 100 instances of normally distributed data with a mean equal to 1 and standard deviation equal to 0.1,\n",
    "# and then 'hist()' plots the histogram to observe the distribution."
   ]
  },
  {
   "cell_type": "code",
   "execution_count": 6,
   "metadata": {},
   "outputs": [
    {
     "data": {
      "image/png": "[encoded data removed]",
      "text/plain": [
       "Plot with title \"density.default(x = n.data)\""
      ]
     },
     "metadata": {},
     "output_type": "display_data"
    }
   ],
   "source": [
    "plot(density(n.data))"
   ]
  },
  {
   "cell_type": "code",
   "execution_count": 8,
   "metadata": {},
   "outputs": [],
   "source": [
    "?hist()\n",
    "?plot()\n",
    "# see the details of these two statistical plots..."
   ]
  },
  {
   "cell_type": "markdown",
   "metadata": {},
   "source": [
    "There are various statistical distributions in R, and they are in R base packages. We can use them by commands.<br>\n",
    "To learn more about statistical distribution, visit [Wolfram page](http://www.wolframalpha.com/examples/StatisticalDistributions.html)."
   ]
  },
  {
   "cell_type": "code",
   "execution_count": 22,
   "metadata": {},
   "outputs": [
    {
     "data": {
      "text/html": [
       "<table>\n",
       "<thead><tr><th scope=col>Distribution</th><th scope=col>Probability</th><th scope=col>Quantile</th><th scope=col>Density</th><th scope=col>Random</th></tr></thead>\n",
       "<tbody>\n",
       "\t<tr><td>Beta              </td><td>pbeta             </td><td>qbeta             </td><td> dbeta            </td><td> rbeta            </td></tr>\n",
       "\t<tr><td>Binomial          </td><td>pbinom            </td><td>qbinom            </td><td>dbinom            </td><td>rbinom            </td></tr>\n",
       "\t<tr><td>Cauchy            </td><td>pcauchy           </td><td> qcauchy          </td><td>dcauchy           </td><td>rcauchy           </td></tr>\n",
       "\t<tr><td>Chi-Square        </td><td>pchisq            </td><td> qchisq           </td><td> dchisq           </td><td>rchisq            </td></tr>\n",
       "\t<tr><td>Exponential       </td><td> pexp             </td><td>qexp              </td><td>dexp              </td><td>rexp              </td></tr>\n",
       "\t<tr><td>F                 </td><td>pf                </td><td> qf               </td><td>df                </td><td> rf               </td></tr>\n",
       "\t<tr><td>Gamma             </td><td>pgamma            </td><td>qgamma            </td><td> dgamma           </td><td>rgamma            </td></tr>\n",
       "\t<tr><td>Geometric         </td><td> pgeom            </td><td>qgeom             </td><td> dgeom            </td><td> rgeom            </td></tr>\n",
       "\t<tr><td>Hypergeometric    </td><td>phyper            </td><td> qhyper           </td><td> dhyper           </td><td> rhyper           </td></tr>\n",
       "\t<tr><td>Logistic          </td><td> plogis           </td><td>qlogis            </td><td>dlogis            </td><td> rlogis           </td></tr>\n",
       "\t<tr><td>Log Normal        </td><td>plnorm            </td><td>qlnorm            </td><td>dlnorm            </td><td> rlnorm           </td></tr>\n",
       "\t<tr><td>Negative Binomial </td><td>pnbinom           </td><td> qnbinom          </td><td>dnbinom           </td><td> rnbinom          </td></tr>\n",
       "\t<tr><td>Normal            </td><td>pnorm             </td><td> qnorm            </td><td>dnorm             </td><td> rnorm            </td></tr>\n",
       "\t<tr><td>Poisson           </td><td>ppois             </td><td>qpois             </td><td>dpois             </td><td> rpois            </td></tr>\n",
       "\t<tr><td>Student t         </td><td>pt                </td><td>qt                </td><td>dt                </td><td>rt                </td></tr>\n",
       "\t<tr><td>Studentized Range </td><td> ptukey           </td><td> qtukey           </td><td>dtukey            </td><td> rtukey           </td></tr>\n",
       "\t<tr><td>Uniform           </td><td>punif             </td><td>qunif             </td><td> dunif            </td><td> runif            </td></tr>\n",
       "</tbody>\n",
       "</table>\n"
      ],
      "text/latex": [
       "\\begin{tabular}{r|lllll}\n",
       " Distribution & Probability & Quantile & Density & Random\\\\\n",
       "\\hline\n",
       "\t Beta               & pbeta              & qbeta              &  dbeta             &  rbeta            \\\\\n",
       "\t Binomial           & pbinom             & qbinom             & dbinom             & rbinom            \\\\\n",
       "\t Cauchy             & pcauchy            &  qcauchy           & dcauchy            & rcauchy           \\\\\n",
       "\t Chi-Square         & pchisq             &  qchisq            &  dchisq            & rchisq            \\\\\n",
       "\t Exponential        &  pexp              & qexp               & dexp               & rexp              \\\\\n",
       "\t F                  & pf                 &  qf                & df                 &  rf               \\\\\n",
       "\t Gamma              & pgamma             & qgamma             &  dgamma            & rgamma            \\\\\n",
       "\t Geometric          &  pgeom             & qgeom              &  dgeom             &  rgeom            \\\\\n",
       "\t Hypergeometric     & phyper             &  qhyper            &  dhyper            &  rhyper           \\\\\n",
       "\t Logistic           &  plogis            & qlogis             & dlogis             &  rlogis           \\\\\n",
       "\t Log Normal         & plnorm             & qlnorm             & dlnorm             &  rlnorm           \\\\\n",
       "\t Negative Binomial  & pnbinom            &  qnbinom           & dnbinom            &  rnbinom          \\\\\n",
       "\t Normal             & pnorm              &  qnorm             & dnorm              &  rnorm            \\\\\n",
       "\t Poisson            & ppois              & qpois              & dpois              &  rpois            \\\\\n",
       "\t Student t          & pt                 & qt                 & dt                 & rt                \\\\\n",
       "\t Studentized Range  &  ptukey            &  qtukey            & dtukey             &  rtukey           \\\\\n",
       "\t Uniform            & punif              & qunif              &  dunif             &  runif            \\\\\n",
       "\\end{tabular}\n"
      ],
      "text/markdown": [
       "\n",
       "Distribution | Probability | Quantile | Density | Random | \n",
       "|---|---|---|---|---|---|---|---|---|---|---|---|---|---|---|---|---|\n",
       "| Beta               | pbeta              | qbeta              |  dbeta             |  rbeta             | \n",
       "| Binomial           | pbinom             | qbinom             | dbinom             | rbinom             | \n",
       "| Cauchy             | pcauchy            |  qcauchy           | dcauchy            | rcauchy            | \n",
       "| Chi-Square         | pchisq             |  qchisq            |  dchisq            | rchisq             | \n",
       "| Exponential        |  pexp              | qexp               | dexp               | rexp               | \n",
       "| F                  | pf                 |  qf                | df                 |  rf                | \n",
       "| Gamma              | pgamma             | qgamma             |  dgamma            | rgamma             | \n",
       "| Geometric          |  pgeom             | qgeom              |  dgeom             |  rgeom             | \n",
       "| Hypergeometric     | phyper             |  qhyper            |  dhyper            |  rhyper            | \n",
       "| Logistic           |  plogis            | qlogis             | dlogis             |  rlogis            | \n",
       "| Log Normal         | plnorm             | qlnorm             | dlnorm             |  rlnorm            | \n",
       "| Negative Binomial  | pnbinom            |  qnbinom           | dnbinom            |  rnbinom           | \n",
       "| Normal             | pnorm              |  qnorm             | dnorm              |  rnorm             | \n",
       "| Poisson            | ppois              | qpois              | dpois              |  rpois             | \n",
       "| Student t          | pt                 | qt                 | dt                 | rt                 | \n",
       "| Studentized Range  |  ptukey            |  qtukey            | dtukey             |  rtukey            | \n",
       "| Uniform            | punif              | qunif              |  dunif             |  runif             | \n",
       "\n",
       "\n"
      ],
      "text/plain": [
       "   Distribution       Probability Quantile  Density  Random  \n",
       "1  Beta               pbeta       qbeta      dbeta    rbeta  \n",
       "2  Binomial           pbinom      qbinom    dbinom   rbinom  \n",
       "3  Cauchy             pcauchy      qcauchy  dcauchy  rcauchy \n",
       "4  Chi-Square         pchisq       qchisq    dchisq  rchisq  \n",
       "5  Exponential         pexp       qexp      dexp     rexp    \n",
       "6  F                  pf           qf       df        rf     \n",
       "7  Gamma              pgamma      qgamma     dgamma  rgamma  \n",
       "8  Geometric           pgeom      qgeom      dgeom    rgeom  \n",
       "9  Hypergeometric     phyper       qhyper    dhyper   rhyper \n",
       "10 Logistic            plogis     qlogis    dlogis    rlogis \n",
       "11 Log Normal         plnorm      qlnorm    dlnorm    rlnorm \n",
       "12 Negative Binomial  pnbinom      qnbinom  dnbinom   rnbinom\n",
       "13 Normal             pnorm        qnorm    dnorm     rnorm  \n",
       "14 Poisson            ppois       qpois     dpois     rpois  \n",
       "15 Student t          pt          qt        dt       rt      \n",
       "16 Studentized Range   ptukey      qtukey   dtukey    rtukey \n",
       "17 Uniform            punif       qunif      dunif    runif  "
      ]
     },
     "metadata": {},
     "output_type": "display_data"
    }
   ],
   "source": [
    "distri <- read.csv(\"C:/Users/Master1/Desktop/R/Distributions.csv\")\n",
    "distri"
   ]
  },
  {
   "cell_type": "code",
   "execution_count": 25,
   "metadata": {},
   "outputs": [
    {
     "data": {
      "text/html": [
       "<ol class=list-inline>\n",
       "\t<li>0.702751046868776</li>\n",
       "\t<li>0.318284246099134</li>\n",
       "\t<li>0.576749348367312</li>\n",
       "\t<li>0.808602203670315</li>\n",
       "\t<li>0.84741229199983</li>\n",
       "\t<li>0.881799843392237</li>\n",
       "\t<li>0.825570387110664</li>\n",
       "\t<li>0.55998880253705</li>\n",
       "\t<li>0.6380707337293</li>\n",
       "\t<li>0.83023816413002</li>\n",
       "\t<li>0.626301023324054</li>\n",
       "\t<li>0.392128131012164</li>\n",
       "\t<li>0.486814983092094</li>\n",
       "\t<li>0.487689798469549</li>\n",
       "\t<li>0.642552648975385</li>\n",
       "\t<li>0.987355628948339</li>\n",
       "\t<li>0.617021455397547</li>\n",
       "\t<li>0.551195086535169</li>\n",
       "\t<li>0.442138261645653</li>\n",
       "\t<li>0.937886346105934</li>\n",
       "\t<li>0.744042778227586</li>\n",
       "\t<li>0.752699867151163</li>\n",
       "\t<li>0.475459228180931</li>\n",
       "\t<li>0.843534743408865</li>\n",
       "\t<li>0.538428502635877</li>\n",
       "\t<li>0.781285173169755</li>\n",
       "\t<li>0.385070423935444</li>\n",
       "\t<li>0.33626135735303</li>\n",
       "\t<li>0.758642333531076</li>\n",
       "\t<li>0.637589808530481</li>\n",
       "\t<li>0.467581469950984</li>\n",
       "\t<li>0.865766039393573</li>\n",
       "\t<li>0.707280395774551</li>\n",
       "\t<li>0.420463796298129</li>\n",
       "\t<li>0.733297411035791</li>\n",
       "\t<li>0.7468622714717</li>\n",
       "\t<li>0.79587032776104</li>\n",
       "\t<li>0.708969528999705</li>\n",
       "\t<li>0.504799014835108</li>\n",
       "\t<li>0.781787487839229</li>\n",
       "\t<li>0.558628027368938</li>\n",
       "\t<li>0.450194900119022</li>\n",
       "\t<li>0.659136262081645</li>\n",
       "\t<li>0.718513743355939</li>\n",
       "\t<li>0.666612932777092</li>\n",
       "\t<li>0.733854601161566</li>\n",
       "\t<li>0.887423987485071</li>\n",
       "\t<li>0.938383234714919</li>\n",
       "\t<li>0.436314746252646</li>\n",
       "\t<li>0.646050221596047</li>\n",
       "</ol>\n"
      ],
      "text/latex": [
       "\\begin{enumerate*}\n",
       "\\item 0.702751046868776\n",
       "\\item 0.318284246099134\n",
       "\\item 0.576749348367312\n",
       "\\item 0.808602203670315\n",
       "\\item 0.84741229199983\n",
       "\\item 0.881799843392237\n",
       "\\item 0.825570387110664\n",
       "\\item 0.55998880253705\n",
       "\\item 0.6380707337293\n",
       "\\item 0.83023816413002\n",
       "\\item 0.626301023324054\n",
       "\\item 0.392128131012164\n",
       "\\item 0.486814983092094\n",
       "\\item 0.487689798469549\n",
       "\\item 0.642552648975385\n",
       "\\item 0.987355628948339\n",
       "\\item 0.617021455397547\n",
       "\\item 0.551195086535169\n",
       "\\item 0.442138261645653\n",
       "\\item 0.937886346105934\n",
       "\\item 0.744042778227586\n",
       "\\item 0.752699867151163\n",
       "\\item 0.475459228180931\n",
       "\\item 0.843534743408865\n",
       "\\item 0.538428502635877\n",
       "\\item 0.781285173169755\n",
       "\\item 0.385070423935444\n",
       "\\item 0.33626135735303\n",
       "\\item 0.758642333531076\n",
       "\\item 0.637589808530481\n",
       "\\item 0.467581469950984\n",
       "\\item 0.865766039393573\n",
       "\\item 0.707280395774551\n",
       "\\item 0.420463796298129\n",
       "\\item 0.733297411035791\n",
       "\\item 0.7468622714717\n",
       "\\item 0.79587032776104\n",
       "\\item 0.708969528999705\n",
       "\\item 0.504799014835108\n",
       "\\item 0.781787487839229\n",
       "\\item 0.558628027368938\n",
       "\\item 0.450194900119022\n",
       "\\item 0.659136262081645\n",
       "\\item 0.718513743355939\n",
       "\\item 0.666612932777092\n",
       "\\item 0.733854601161566\n",
       "\\item 0.887423987485071\n",
       "\\item 0.938383234714919\n",
       "\\item 0.436314746252646\n",
       "\\item 0.646050221596047\n",
       "\\end{enumerate*}\n"
      ],
      "text/markdown": [
       "1. 0.702751046868776\n",
       "2. 0.318284246099134\n",
       "3. 0.576749348367312\n",
       "4. 0.808602203670315\n",
       "5. 0.84741229199983\n",
       "6. 0.881799843392237\n",
       "7. 0.825570387110664\n",
       "8. 0.55998880253705\n",
       "9. 0.6380707337293\n",
       "10. 0.83023816413002\n",
       "11. 0.626301023324054\n",
       "12. 0.392128131012164\n",
       "13. 0.486814983092094\n",
       "14. 0.487689798469549\n",
       "15. 0.642552648975385\n",
       "16. 0.987355628948339\n",
       "17. 0.617021455397547\n",
       "18. 0.551195086535169\n",
       "19. 0.442138261645653\n",
       "20. 0.937886346105934\n",
       "21. 0.744042778227586\n",
       "22. 0.752699867151163\n",
       "23. 0.475459228180931\n",
       "24. 0.843534743408865\n",
       "25. 0.538428502635877\n",
       "26. 0.781285173169755\n",
       "27. 0.385070423935444\n",
       "28. 0.33626135735303\n",
       "29. 0.758642333531076\n",
       "30. 0.637589808530481\n",
       "31. 0.467581469950984\n",
       "32. 0.865766039393573\n",
       "33. 0.707280395774551\n",
       "34. 0.420463796298129\n",
       "35. 0.733297411035791\n",
       "36. 0.7468622714717\n",
       "37. 0.79587032776104\n",
       "38. 0.708969528999705\n",
       "39. 0.504799014835108\n",
       "40. 0.781787487839229\n",
       "41. 0.558628027368938\n",
       "42. 0.450194900119022\n",
       "43. 0.659136262081645\n",
       "44. 0.718513743355939\n",
       "45. 0.666612932777092\n",
       "46. 0.733854601161566\n",
       "47. 0.887423987485071\n",
       "48. 0.938383234714919\n",
       "49. 0.436314746252646\n",
       "50. 0.646050221596047\n",
       "\n",
       "\n"
      ],
      "text/plain": [
       " [1] 0.7027510 0.3182842 0.5767493 0.8086022 0.8474123 0.8817998 0.8255704\n",
       " [8] 0.5599888 0.6380707 0.8302382 0.6263010 0.3921281 0.4868150 0.4876898\n",
       "[15] 0.6425526 0.9873556 0.6170215 0.5511951 0.4421383 0.9378863 0.7440428\n",
       "[22] 0.7526999 0.4754592 0.8435347 0.5384285 0.7812852 0.3850704 0.3362614\n",
       "[29] 0.7586423 0.6375898 0.4675815 0.8657660 0.7072804 0.4204638 0.7332974\n",
       "[36] 0.7468623 0.7958703 0.7089695 0.5047990 0.7817875 0.5586280 0.4501949\n",
       "[43] 0.6591363 0.7185137 0.6666129 0.7338546 0.8874240 0.9383832 0.4363147\n",
       "[50] 0.6460502"
      ]
     },
     "metadata": {},
     "output_type": "display_data"
    }
   ],
   "source": [
    "m.data <- rbeta(50, 4, 2)\n",
    "m.data"
   ]
  },
  {
   "cell_type": "code",
   "execution_count": 6,
   "metadata": {},
   "outputs": [
    {
     "data": {
      "image/png": "[encoded data removed]",
      "text/plain": [
       "Plot with title \"Histogram of m.data\""
      ]
     },
     "metadata": {},
     "output_type": "display_data"
    }
   ],
   "source": [
    "hist(m.data)"
   ]
  },
  {
   "cell_type": "code",
   "execution_count": null,
   "metadata": {},
   "outputs": [],
   "source": []
  }
 ],
 "metadata": {
  "kernelspec": {
   "display_name": "R",
   "language": "R",
   "name": "ir"
  },
  "language_info": {
   "codemirror_mode": "r",
   "file_extension": ".r",
   "mimetype": "text/x-r-source",
   "name": "R",
   "pygments_lexer": "r",
   "version": "3.4.2"
  }
 },
 "nbformat": 4,
 "nbformat_minor": 2
}
